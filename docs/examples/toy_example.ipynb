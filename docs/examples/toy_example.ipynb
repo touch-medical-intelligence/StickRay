{
 "cells": [
  {
   "cell_type": "markdown",
   "source": [
    "## Example 1: Stateful Hello World\n",
    "\n",
    "This is an example of how to use routed services to create a simple \"Hello World\" service, where we'll route the request to a service that will return \"Hello World\" to the client.\n",
    "\n"
   ],
   "metadata": {
    "collapsed": false
   }
  },
  {
   "cell_type": "code",
   "execution_count": 1,
   "outputs": [
    {
     "name": "stderr",
     "output_type": "stream",
     "text": [
      "2023-09-04 14:27:55,472\tINFO worker.py:1431 -- Connecting to existing Ray cluster at address: 192.168.178.154:6379...\n",
      "2023-09-04 14:27:55,512\tINFO worker.py:1612 -- Connected to Ray cluster. View the dashboard at \u001B[1m\u001B[32mhttp://127.0.0.1:8265 \u001B[39m\u001B[22m\n"
     ]
    },
    {
     "data": {
      "text/plain": "RayContext(dashboard_url='127.0.0.1:8265', python_version='3.11.4', ray_version='2.6.3', ray_commit='8a434b4ee7cd48e60fa1531315d39901fac5d79e', protocol_version=None)",
      "application/vnd.jupyter.widget-view+json": {
       "version_major": 2,
       "version_minor": 0,
       "model_id": "32d1ba9c49b5470aabbe8d039a885c73"
      },
      "text/html": "<div class=\"lm-Widget p-Widget lm-Panel p-Panel jp-Cell-outputWrapper\">\n    <div style=\"margin-left: 50px;display: flex;flex-direction: row;align-items: center\">\n        <div class=\"jp-RenderedHTMLCommon\" style=\"display: flex; flex-direction: row;\">\n  <svg viewBox=\"0 0 567 224\" fill=\"none\" xmlns=\"http://www.w3.org/2000/svg\" style=\"height: 3em;\">\n    <g clip-path=\"url(#clip0_4338_178347)\">\n        <path d=\"M341.29 165.561H355.29L330.13 129.051C345.63 123.991 354.21 112.051 354.21 94.2307C354.21 71.3707 338.72 58.1807 311.88 58.1807H271V165.561H283.27V131.661H311.8C314.25 131.661 316.71 131.501 319.01 131.351L341.25 165.561H341.29ZM283.29 119.851V70.0007H311.82C331.3 70.0007 342.34 78.2907 342.34 94.5507C342.34 111.271 331.34 119.861 311.82 119.861L283.29 119.851ZM451.4 138.411L463.4 165.561H476.74L428.74 58.1807H416L367.83 165.561H380.83L392.83 138.411H451.4ZM446.19 126.601H398L422 72.1407L446.24 126.601H446.19ZM526.11 128.741L566.91 58.1807H554.35L519.99 114.181L485.17 58.1807H472.44L514.01 129.181V165.541H526.13V128.741H526.11Z\" fill=\"var(--jp-ui-font-color0)\"/>\n        <path d=\"M82.35 104.44C84.0187 97.8827 87.8248 92.0678 93.1671 87.9146C98.5094 83.7614 105.083 81.5067 111.85 81.5067C118.617 81.5067 125.191 83.7614 130.533 87.9146C135.875 92.0678 139.681 97.8827 141.35 104.44H163.75C164.476 101.562 165.622 98.8057 167.15 96.2605L127.45 56.5605C121.071 60.3522 113.526 61.6823 106.235 60.3005C98.9443 58.9187 92.4094 54.9203 87.8602 49.0574C83.3109 43.1946 81.0609 35.8714 81.5332 28.4656C82.0056 21.0599 85.1679 14.0819 90.4252 8.8446C95.6824 3.60726 102.672 0.471508 110.08 0.0272655C117.487 -0.416977 124.802 1.86091 130.647 6.4324C136.493 11.0039 140.467 17.5539 141.821 24.8501C143.175 32.1463 141.816 39.6859 138 46.0505L177.69 85.7505C182.31 82.9877 187.58 81.4995 192.962 81.4375C198.345 81.3755 203.648 82.742 208.33 85.3976C213.012 88.0532 216.907 91.9029 219.616 96.5544C222.326 101.206 223.753 106.492 223.753 111.875C223.753 117.258 222.326 122.545 219.616 127.197C216.907 131.848 213.012 135.698 208.33 138.353C203.648 141.009 198.345 142.375 192.962 142.313C187.58 142.251 182.31 140.763 177.69 138L138 177.7C141.808 184.071 143.155 191.614 141.79 198.91C140.424 206.205 136.44 212.75 130.585 217.313C124.731 221.875 117.412 224.141 110.004 223.683C102.596 223.226 95.6103 220.077 90.3621 214.828C85.1139 209.58 81.9647 202.595 81.5072 195.187C81.0497 187.779 83.3154 180.459 87.878 174.605C92.4405 168.751 98.9853 164.766 106.281 163.401C113.576 162.035 121.119 163.383 127.49 167.19L167.19 127.49C165.664 124.941 164.518 122.182 163.79 119.3H141.39C139.721 125.858 135.915 131.673 130.573 135.826C125.231 139.98 118.657 142.234 111.89 142.234C105.123 142.234 98.5494 139.98 93.2071 135.826C87.8648 131.673 84.0587 125.858 82.39 119.3H60C58.1878 126.495 53.8086 132.78 47.6863 136.971C41.5641 141.163 34.1211 142.972 26.7579 142.059C19.3947 141.146 12.6191 137.574 7.70605 132.014C2.79302 126.454 0.0813599 119.29 0.0813599 111.87C0.0813599 104.451 2.79302 97.2871 7.70605 91.7272C12.6191 86.1673 19.3947 82.5947 26.7579 81.6817C34.1211 80.7686 41.5641 82.5781 47.6863 86.7696C53.8086 90.9611 58.1878 97.2456 60 104.44H82.35ZM100.86 204.32C103.407 206.868 106.759 208.453 110.345 208.806C113.93 209.159 117.527 208.258 120.522 206.256C123.517 204.254 125.725 201.276 126.771 197.828C127.816 194.38 127.633 190.677 126.253 187.349C124.874 184.021 122.383 181.274 119.205 179.577C116.027 177.88 112.359 177.337 108.826 178.042C105.293 178.746 102.113 180.654 99.8291 183.44C97.5451 186.226 96.2979 189.718 96.3 193.32C96.2985 195.364 96.7006 197.388 97.4831 199.275C98.2656 201.163 99.4132 202.877 100.86 204.32ZM204.32 122.88C206.868 120.333 208.453 116.981 208.806 113.396C209.159 109.811 208.258 106.214 206.256 103.219C204.254 100.223 201.275 98.0151 197.827 96.97C194.38 95.9249 190.676 96.1077 187.348 97.4873C184.02 98.8669 181.274 101.358 179.577 104.536C177.879 107.714 177.337 111.382 178.041 114.915C178.746 118.448 180.653 121.627 183.439 123.911C186.226 126.195 189.717 127.443 193.32 127.44C195.364 127.443 197.388 127.042 199.275 126.259C201.163 125.476 202.878 124.328 204.32 122.88ZM122.88 19.4205C120.333 16.8729 116.981 15.2876 113.395 14.9347C109.81 14.5817 106.213 15.483 103.218 17.4849C100.223 19.4868 98.0146 22.4654 96.9696 25.9131C95.9245 29.3608 96.1073 33.0642 97.4869 36.3922C98.8665 39.7202 101.358 42.4668 104.535 44.1639C107.713 45.861 111.381 46.4036 114.914 45.6992C118.447 44.9949 121.627 43.0871 123.911 40.301C126.195 37.515 127.442 34.0231 127.44 30.4205C127.44 28.3772 127.038 26.3539 126.255 24.4664C125.473 22.5788 124.326 20.8642 122.88 19.4205ZM19.42 100.86C16.8725 103.408 15.2872 106.76 14.9342 110.345C14.5813 113.93 15.4826 117.527 17.4844 120.522C19.4863 123.518 22.4649 125.726 25.9127 126.771C29.3604 127.816 33.0638 127.633 36.3918 126.254C39.7198 124.874 42.4664 122.383 44.1635 119.205C45.8606 116.027 46.4032 112.359 45.6988 108.826C44.9944 105.293 43.0866 102.114 40.3006 99.8296C37.5145 97.5455 34.0227 96.2983 30.42 96.3005C26.2938 96.3018 22.337 97.9421 19.42 100.86ZM100.86 100.86C98.3125 103.408 96.7272 106.76 96.3742 110.345C96.0213 113.93 96.9226 117.527 98.9244 120.522C100.926 123.518 103.905 125.726 107.353 126.771C110.8 127.816 114.504 127.633 117.832 126.254C121.16 124.874 123.906 122.383 125.604 119.205C127.301 116.027 127.843 112.359 127.139 108.826C126.434 105.293 124.527 102.114 121.741 99.8296C118.955 97.5455 115.463 96.2983 111.86 96.3005C109.817 96.299 107.793 96.701 105.905 97.4835C104.018 98.2661 102.303 99.4136 100.86 100.86Z\" fill=\"#00AEEF\"/>\n    </g>\n    <defs>\n        <clipPath id=\"clip0_4338_178347\">\n            <rect width=\"566.93\" height=\"223.75\" fill=\"white\"/>\n        </clipPath>\n    </defs>\n  </svg>\n</div>\n\n        <table class=\"jp-RenderedHTMLCommon\" style=\"border-collapse: collapse;color: var(--jp-ui-font-color1);font-size: var(--jp-ui-font-size1);\">\n    <tr>\n        <td style=\"text-align: left\"><b>Python version:</b></td>\n        <td style=\"text-align: left\"><b>3.11.4</b></td>\n    </tr>\n    <tr>\n        <td style=\"text-align: left\"><b>Ray version:</b></td>\n        <td style=\"text-align: left\"><b>2.6.3</b></td>\n    </tr>\n    <tr>\n    <td style=\"text-align: left\"><b>Dashboard:</b></td>\n    <td style=\"text-align: left\"><b><a href=\"http://127.0.0.1:8265\" target=\"_blank\">http://127.0.0.1:8265</a></b></td>\n</tr>\n\n</table>\n\n    </div>\n</div>\n"
     },
     "execution_count": 1,
     "metadata": {},
     "output_type": "execute_result"
    }
   ],
   "source": [
    "get_ipython().cache_size = 0  # Disables caching completely\n",
    "\n",
    "import ray\n",
    "\n",
    "ray.init()\n"
   ],
   "metadata": {
    "collapsed": false
   }
  },
  {
   "cell_type": "markdown",
   "source": [
    "# First define the service\n",
    "Define a sticky connections worker by subclassing `StatefulWorker` and decorating it with `routed_service`. The `routed_service` decorator takes two arguments: `expiry_period` and `max_concurrent_sessions`. The `expiry_period` is the amount of time that a session will be kept alive for after the last request. The `max_concurrent_sessions` is the maximum number of sessions that can be active at any one time. If a new session is requested and the maximum number of sessions is already active, then a new worker is spun up and they are balanced across.\n",
    "\n",
    "## Our serialisable session\n",
    "\n",
    "To define the session state we use a `SerialisableBaseModel` from the `stick_ray.utils` module. This is a subclass of `pydantic.BaseModel` that is efficiently serialisable by Ray. We can then define the session state as a class with some attributes. In this case we'll just have two attributes `count` that we'll increment each time the session is handled, and `world_name` will just point to the `session_id` for now.\n",
    "\n",
    "**Note**: we are not required to store the `session_id` at any point. The only thing you need the `session_id` for is to set and retrieve the session state. The `session_id` is automatically stored in the session state by the `StatefulWorker` class.\n"
   ],
   "metadata": {
    "collapsed": false
   }
  },
  {
   "cell_type": "code",
   "execution_count": 2,
   "outputs": [],
   "source": [
    "import asyncio\n",
    "from stick_ray.utils import SerialisableBaseModel\n",
    "from stick_ray.stateful_worker import StatefulWorker\n",
    "from datetime import timedelta\n",
    "from stick_ray import routed_service\n",
    "import numpy as np\n",
    "\n",
    "\n",
    "class MySessionState(SerialisableBaseModel):\n",
    "    \"\"\"\n",
    "    This is the state that will be stored for each session.\n",
    "    \"\"\"\n",
    "    world_name: str\n",
    "    count: int = 0\n",
    "\n",
    "\n",
    "@routed_service(expiry_period=timedelta(seconds=10))\n",
    "class ToyWorker(StatefulWorker):\n",
    "    async def _create_session(self, session_id: str):\n",
    "        state = MySessionState(world_name=f\"{session_id} World\", count=0)\n",
    "        # Use API to store the session state\n",
    "        await self.set_session_state(session_id, state)\n",
    "\n",
    "    async def say_hello(self, *, session_id):\n",
    "        # Use API to get the session state\n",
    "        state = await self.get_session_state(session_id=session_id)\n",
    "        state.count += 1\n",
    "        return f\"Hello {state.world_name} for the {state.count}-th time!\"\n",
    "\n",
    "\n",
    "\n",
    "\n"
   ],
   "metadata": {
    "collapsed": false
   }
  },
  {
   "cell_type": "markdown",
   "source": [
    "# Starting the service\n",
    "\n",
    "To start the service we just need to create an instance of the class. This will automatically start the service and register it with the Ray backend. We can fetch the service by calling the class method `fetch`. This checks if the service is running and if it is, returns the service. If the service is not running, it will start it and then return it."
   ],
   "metadata": {
    "collapsed": false
   }
  },
  {
   "cell_type": "code",
   "execution_count": 3,
   "outputs": [
    {
     "name": "stderr",
     "output_type": "stream",
     "text": [
      "\u001B[2m\u001B[36m(Router:ToyWorker pid=12852)\u001B[0m Using blocking ray.get inside async actor. This blocks the event loop. Please use `await` on object ref with asyncio.gather if you want to yield execution to the event loop instead.\n",
      "\u001B[2m\u001B[33m(raylet)\u001B[0m [2023-09-04 14:27:58,531 E 12455 12470] (raylet) file_system_monitor.cc:111: /tmp/ray/session_2023-09-04_14-27-46_650200_12356 is over 95% full, available space: 15171612672; capacity: 502392610816. Object creation will fail if spilling is required.\n"
     ]
    }
   ],
   "source": [
    "service = ToyWorker()\n",
    "\n",
    "# After the service is created, we can fetch it simply by calling the class method `fetch`\n",
    "assert service == ToyWorker.fetch()\n"
   ],
   "metadata": {
    "collapsed": false
   }
  },
  {
   "cell_type": "markdown",
   "source": [
    "\n",
    "# Getting a handle\n",
    "\n",
    "To call into the service we need a `RoutedServiceHandle`. To get a handle we call the `get_handle` method on the service. This returns a `RoutedServiceHandle` that we can use to call into the service.\n",
    "\n",
    "## Calling into the service\n",
    "\n",
    "The handle then exposes all the public methods of the `StatefulWorker` (those with a leading underscore). We can call into the service by calling the method on the handle. This will return a `ray.ObjectRef` that we can use to retrieve the result of the call. The `ray.ObjectRef` is a handle to the result of the call. We can retrieve the result by calling `ray.get` on the `ray.ObjectRef`. This will block until the result is ready. If we were using a `sync=False` handle then we would use the double `await` pattern of Ray Serve deployments.\n",
    "\n",
    "## Worker expiry\n",
    "\n",
    "Since we set the worker expiry to 10 seconds, after 10 seconds the worker will be removed from the Ray cluster. If we try to call into the service after this time, we cause the creation of a new session. We can see this by calling into the service twice, waiting 11 seconds, and then calling into the service again. The first two calls will show the count being incremented, and the third call will show the state being reset to 1."
   ],
   "metadata": {
    "collapsed": false
   }
  },
  {
   "cell_type": "code",
   "execution_count": 10,
   "outputs": [
    {
     "name": "stdout",
     "output_type": "stream",
     "text": [
      "Hello World Bill! You've been handled 1 times!\n",
      "Hello World Bill! You've been handled 1 times!\n"
     ]
    },
    {
     "name": "stderr",
     "output_type": "stream",
     "text": [
      "\u001B[2m\u001B[33m(raylet)\u001B[0m [2023-09-04 14:33:58,967 E 12455 12470] (raylet) file_system_monitor.cc:111: /tmp/ray/session_2023-09-04_14-27-46_650200_12356 is over 95% full, available space: 15170351104; capacity: 502392610816. Object creation will fail if spilling is required.\n"
     ]
    },
    {
     "name": "stdout",
     "output_type": "stream",
     "text": [
      "Hello World Bill! You've been handled 1 times!\n"
     ]
    }
   ],
   "source": [
    "from time import sleep\n",
    "\n",
    "ray.init(address=\"auto\")\n",
    "\n",
    "# Deploy / Update the service\n",
    "ToyWorker()\n",
    "\n",
    "# Get a handle\n",
    "handle = service.get_handle(sync=True)\n",
    "\n",
    "print(ray.get(handle.say_hello(session_id=\"Bill\")))\n",
    "# “Hello Bill World for the 1-th time!”\n",
    "\n",
    "print(ray.get(handle.say_hello(session_id=\"Bill\")))\n",
    "# “Hello Bill World for the 2-th time!”\n",
    "\n",
    "# Let the session expire\n",
    "sleep(11)\n",
    "\n",
    "print(ray.get(handle.say_hello(session_id=\"Bill\")))\n",
    "# “Hello Bill World for the 1-th time!”\n",
    "\n"
   ],
   "metadata": {
    "collapsed": false
   }
  },
  {
   "cell_type": "markdown",
   "source": [
    "# Async handles\n",
    "Async handles are gotten easily, and awaiting a method call returns an object ref, which must be awaited to get the result. This results in the double await pattern seen in other parts of Ray."
   ],
   "metadata": {
    "collapsed": false
   }
  },
  {
   "cell_type": "code",
   "execution_count": 11,
   "outputs": [
    {
     "name": "stdout",
     "output_type": "stream",
     "text": [
      "Hello World Bill! You've been handled 1 times!\n",
      "Hello World Bill! You've been handled 2 times!\n"
     ]
    }
   ],
   "source": [
    "async_handle = service.get_handle(sync=False)\n",
    "obj_ref = await async_handle.say_hello(session_id=\"Bill\")\n",
    "result = await obj_ref\n",
    "print(result)\n",
    "\n",
    "obj_ref = await async_handle.say_hello(session_id=\"Bill\")\n",
    "result = await obj_ref\n",
    "print(result)"
   ],
   "metadata": {
    "collapsed": false
   }
  },
  {
   "cell_type": "code",
   "execution_count": null,
   "outputs": [],
   "source": [
    "ray.init(address='auto')\n",
    "\n",
    "# Deploy/Update the service\n",
    "ToyWorker()\n",
    "\n",
    "# Get a handle\n",
    "handle = service.get_handle(sync=True)\n",
    "\n",
    "print(ray.get(handle.say_hello(session_id=\"Bill\")))\n",
    "# \"Hello Bill World for the 1-th time!\"\n",
    "\n",
    "print(ray.get(handle.say_hello(session_id=\"Bill\")))\n",
    "# \"Hello Bill World for the 2-th time!\"\n"
   ],
   "metadata": {
    "collapsed": false,
    "pycharm": {
     "is_executing": true
    }
   }
  },
  {
   "cell_type": "code",
   "execution_count": 6,
   "outputs": [],
   "source": [],
   "metadata": {
    "collapsed": false
   }
  }
 ],
 "metadata": {
  "kernelspec": {
   "display_name": "Python 3",
   "language": "python",
   "name": "python3"
  },
  "language_info": {
   "codemirror_mode": {
    "name": "ipython",
    "version": 2
   },
   "file_extension": ".py",
   "mimetype": "text/x-python",
   "name": "python",
   "nbconvert_exporter": "python",
   "pygments_lexer": "ipython2",
   "version": "2.7.6"
  }
 },
 "nbformat": 4,
 "nbformat_minor": 0
}
